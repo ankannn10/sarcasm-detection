{
 "cells": [
  {
   "cell_type": "code",
   "execution_count": 1,
   "id": "36abb3d8-614f-42e1-b6f7-cfdb365908e1",
   "metadata": {},
   "outputs": [
    {
     "data": {
      "text/html": [
       "<div>\n",
       "<style scoped>\n",
       "    .dataframe tbody tr th:only-of-type {\n",
       "        vertical-align: middle;\n",
       "    }\n",
       "\n",
       "    .dataframe tbody tr th {\n",
       "        vertical-align: top;\n",
       "    }\n",
       "\n",
       "    .dataframe thead th {\n",
       "        text-align: right;\n",
       "    }\n",
       "</style>\n",
       "<table border=\"1\" class=\"dataframe\">\n",
       "  <thead>\n",
       "    <tr style=\"text-align: right;\">\n",
       "      <th></th>\n",
       "      <th>label</th>\n",
       "      <th>comment</th>\n",
       "      <th>context</th>\n",
       "    </tr>\n",
       "  </thead>\n",
       "  <tbody>\n",
       "    <tr>\n",
       "      <th>0</th>\n",
       "      <td>0</td>\n",
       "      <td>NC and NH.</td>\n",
       "      <td>Yeah, I get that argument. At this point, I'd ...</td>\n",
       "    </tr>\n",
       "    <tr>\n",
       "      <th>1</th>\n",
       "      <td>0</td>\n",
       "      <td>You do know west teams play against west teams...</td>\n",
       "      <td>The blazers and Mavericks (The wests 5 and 6 s...</td>\n",
       "    </tr>\n",
       "    <tr>\n",
       "      <th>2</th>\n",
       "      <td>0</td>\n",
       "      <td>They were underdogs earlier today, but since G...</td>\n",
       "      <td>They're favored to win.</td>\n",
       "    </tr>\n",
       "    <tr>\n",
       "      <th>3</th>\n",
       "      <td>0</td>\n",
       "      <td>This meme isn't funny none of the \"new york ni...</td>\n",
       "      <td>deadass don't kill my buzz</td>\n",
       "    </tr>\n",
       "    <tr>\n",
       "      <th>4</th>\n",
       "      <td>0</td>\n",
       "      <td>I could use one of those tools.</td>\n",
       "      <td>Yep can confirm I saw the tool they use for th...</td>\n",
       "    </tr>\n",
       "  </tbody>\n",
       "</table>\n",
       "</div>"
      ],
      "text/plain": [
       "   label                                            comment  \\\n",
       "0      0                                         NC and NH.   \n",
       "1      0  You do know west teams play against west teams...   \n",
       "2      0  They were underdogs earlier today, but since G...   \n",
       "3      0  This meme isn't funny none of the \"new york ni...   \n",
       "4      0                    I could use one of those tools.   \n",
       "\n",
       "                                             context  \n",
       "0  Yeah, I get that argument. At this point, I'd ...  \n",
       "1  The blazers and Mavericks (The wests 5 and 6 s...  \n",
       "2                            They're favored to win.  \n",
       "3                         deadass don't kill my buzz  \n",
       "4  Yep can confirm I saw the tool they use for th...  "
      ]
     },
     "execution_count": 1,
     "metadata": {},
     "output_type": "execute_result"
    }
   ],
   "source": [
    "import pandas as pd\n",
    "df = pd.read_csv(\"filtered_sarcasm_data.csv\")\n",
    "df.head()"
   ]
  },
  {
   "cell_type": "code",
   "execution_count": 2,
   "id": "d8b3f483-8179-45b2-8174-92a166ec4d64",
   "metadata": {},
   "outputs": [
    {
     "name": "stdout",
     "output_type": "stream",
     "text": [
      "Invalid comment rows:          label comment                                            context\n",
      "602          0     NaN                               Any recommendations?\n",
      "56269        1     NaN  LPL shitshow, EU LCS shitshow. What isn't a sh...\n",
      "68590        1     NaN  Car fires smell delicious to you? You should p...\n",
      "135348       0     NaN                                 Will do. EU or NA?\n",
      "199910       0     NaN                                      woah, thanks.\n",
      "258718       1     NaN  No, doing drugs while forming a fetus (your ki...\n",
      "284331       0     NaN                               Fuck you too, buddy.\n",
      "312969       0     NaN  Thu 2016-08-04 accessing vault............unlo...\n",
      "328775       1     NaN                          What symbol denotes suck?\n",
      "331735       1     NaN       Doesn't matter if that experience is garbage\n",
      "332600       1     NaN                           Your favourite lol joke?\n",
      "332631       1     NaN                                       Best region?\n",
      "362293       1     NaN       Because with the newer cell it looks stupid?\n",
      "389792       1     NaN  Valiant sir stands up against the console dron...\n",
      "445204       1     NaN  If only it was that simple, but one fix may im...\n",
      "499549       0     NaN                     How many do the Israelis have?\n",
      "505371       1     NaN  But then no one sees how many active friends y...\n",
      "520619       1     NaN        very true, not all girls like the \"bad boy\"\n",
      "524263       1     NaN  You made a statement that made me understand m...\n",
      "529336       1     NaN             Yes, using game features is an exploit\n",
      "532823       1     NaN  I am just shocked an upstanding group like thi...\n",
      "569280       1     NaN  Very important lead story in the latest QUT Al...\n",
      "645450       1     NaN                                         No thanks.\n",
      "651242       1     NaN                                         No kidding\n",
      "661519       1     NaN                              Lol you didn't got it\n",
      "675235       1     NaN  There probably won't be master chief Might be ...\n",
      "683899       0     NaN  Kinda wish the article showed the bridges on t...\n",
      "747602       0     NaN  What is your hometown's \"Claim to Baseball Fam...\n",
      "799033       1     NaN  ... Correct. He handed the ball off 3 times. W...\n",
      "800812       1     NaN  if only there was a way to convey sarcasm thro...\n",
      "813274       0     NaN  jiji still shitstomps solo q against NALCS mid...\n",
      "817886       1     NaN  Did you mean the peasants eyes or do you actua...\n",
      "859333       1     NaN  Because we have chosen them as sources of mind...\n",
      "875251       1     NaN                                    Nah, that's Tux\n",
      "878050       1     NaN  Droids are just objectively better. Doesn't ta...\n",
      "898863       0     NaN  Pharmacists of Reddit, how much do you judge p...\n",
      "905291       1     NaN  SERIOUSLY?! THIS IS THE FREE ITEM I GOT FOR PL...\n",
      "914178       1     NaN  Make sure he doesn't overdose! Too many people...\n",
      "914615       1     NaN  Are you proposing that the stock market should...\n",
      "918700       1     NaN  Oh no come back please!..... How do I convey s...\n",
      "919882       1     NaN  There is still no good way to convey sarcasm b...\n",
      "923678       1     NaN              Oh ya. Thats no sexisttt. At alllllll\n",
      "936221       1     NaN  Bebe is a beautiful &amp; wonderfully gifted f...\n",
      "949593       1     NaN   And thus an universal sarcasm indicator is born.\n",
      "966886       1     NaN  I cant tell if this is sarcasm or not, but so ...\n",
      "967116       1     NaN                                Just trollin' brah.\n",
      "978220       1     NaN  lol I can't believe that your cat slept throug...\n",
      "982492       1     NaN  Even if she is under 18 it isn't pornography. ...\n",
      "992907       1     NaN                                  thanks Democrats.\n",
      "995023       1     NaN                                         integrity?\n",
      "1001185      1     NaN    Uh, what about that looks like a ghetto to you?\n",
      "1001891      1     NaN  Don't diminish this guy's amazing accomplishme...\n",
      "1002133      1     NaN   We need a sarcasm font. Or perhaps I'm a retard.\n",
      "1009303      1     NaN                   That's an odd use of \"great\". :)\n",
      "1010599      1     NaN  You're definitely an intolerant homophobe. Jud...\n",
      "Invalid context rows: Empty DataFrame\n",
      "Columns: [label, comment, context]\n",
      "Index: []\n"
     ]
    }
   ],
   "source": [
    "# Check for non-string types\n",
    "invalid_comment_rows = df[~df[\"comment\"].apply(lambda x: isinstance(x, str))]\n",
    "invalid_context_rows = df[~df[\"context\"].apply(lambda x: isinstance(x, str))]\n",
    "\n",
    "print(\"Invalid comment rows:\", invalid_comment_rows)\n",
    "print(\"Invalid context rows:\", invalid_context_rows)\n"
   ]
  },
  {
   "cell_type": "code",
   "execution_count": 3,
   "id": "ed6dc887-57eb-419f-9e1e-d3b35849a4d0",
   "metadata": {},
   "outputs": [],
   "source": [
    "\n",
    "# Drop rows where 'comment' is NaN\n",
    "df = df.dropna(subset=[\"comment\"])\n",
    "\n",
    "# Convert 'comment' to string (just in case there are non-string data)\n",
    "df[\"comment\"] = df[\"comment\"].astype(str)\n",
    "\n",
    "# The 'context' column has no invalid entries, but let's ensure it's string too\n",
    "df[\"context\"] = df[\"context\"].astype(str)\n"
   ]
  },
  {
   "cell_type": "code",
   "execution_count": 4,
   "id": "9af6c269-5bb8-45ca-a214-96cda8a04d79",
   "metadata": {},
   "outputs": [
    {
     "name": "stdout",
     "output_type": "stream",
     "text": [
      "Invalid comment rows: Empty DataFrame\n",
      "Columns: [label, comment, context]\n",
      "Index: []\n",
      "Invalid context rows: Empty DataFrame\n",
      "Columns: [label, comment, context]\n",
      "Index: []\n"
     ]
    }
   ],
   "source": [
    "# Check for non-string types\n",
    "invalid_comment_rows = df[~df[\"comment\"].apply(lambda x: isinstance(x, str))]\n",
    "invalid_context_rows = df[~df[\"context\"].apply(lambda x: isinstance(x, str))]\n",
    "\n",
    "print(\"Invalid comment rows:\", invalid_comment_rows)\n",
    "print(\"Invalid context rows:\", invalid_context_rows)"
   ]
  },
  {
   "cell_type": "code",
   "execution_count": 5,
   "id": "12b57284-86e6-49d6-bccb-cf7dbcf7baa0",
   "metadata": {},
   "outputs": [
    {
     "name": "stdout",
     "output_type": "stream",
     "text": [
      "<class 'pandas.core.frame.DataFrame'>\n",
      "Index: 1010771 entries, 0 to 1010825\n",
      "Data columns (total 3 columns):\n",
      " #   Column   Non-Null Count    Dtype \n",
      "---  ------   --------------    ----- \n",
      " 0   label    1010771 non-null  int64 \n",
      " 1   comment  1010771 non-null  object\n",
      " 2   context  1010771 non-null  object\n",
      "dtypes: int64(1), object(2)\n",
      "memory usage: 30.8+ MB\n"
     ]
    }
   ],
   "source": [
    "df.info()"
   ]
  },
  {
   "cell_type": "code",
   "execution_count": null,
   "id": "6c57c65e-b8bc-4099-b74a-cbbc26d59e93",
   "metadata": {},
   "outputs": [],
   "source": []
  }
 ],
 "metadata": {
  "kernelspec": {
   "display_name": "Python 3 (ipykernel)",
   "language": "python",
   "name": "python3"
  },
  "language_info": {
   "codemirror_mode": {
    "name": "ipython",
    "version": 3
   },
   "file_extension": ".py",
   "mimetype": "text/x-python",
   "name": "python",
   "nbconvert_exporter": "python",
   "pygments_lexer": "ipython3",
   "version": "3.12.6"
  }
 },
 "nbformat": 4,
 "nbformat_minor": 5
}
